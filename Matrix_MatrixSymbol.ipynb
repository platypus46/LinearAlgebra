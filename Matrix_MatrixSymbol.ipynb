{
 "cells": [
  {
   "cell_type": "markdown",
   "metadata": {},
   "source": [
    "# Matrix and Matrix Symbol\n",
    " \n",
    "선형대수학을 공부하는데 적어도 행렬과 행렬기호 정도는 숙지를 하고 진행하는게 낫겠다싶어 작성해보았다.  \n",
    "- 순서는 연관성을 고려하지않고 알파벳순으로 나열했다.\n",
    "- 이 행렬이 어떤 경우에 쓰이는지를 나타내기보단 개념전달에 의의를 두었다."
   ]
  },
  {
   "cell_type": "markdown",
   "metadata": {},
   "source": [
    "### 임의의 행렬(A)"
   ]
  },
  {
   "cell_type": "markdown",
   "metadata": {},
   "source": [
    "### 순환행렬(C): circulant matrix\n",
    "\n",
    "퇴플리츠행렬의 일종으로 각 행 벡터는 선행 행 벡터에 비례하여 오른쪽으로 한 요소(성분)만큼 회전한다.\n",
    "- 퇴플리츠행렬(Toeplitz matrix): 대각선 위의 성분들이 같은 정사각행렬을 말한다.\n",
    "\n",
    "간단하게 예시로 행렬을 나타내보자면 다음과 같이 나타낼 수 있다.  \n",
    "$\\begin{bmatrix}a_0&a_1&a_2&a_3&a_4\\\\a_4&a_0&a_1&a_2&a_3\\\\a_3&a_4&a_0&a_1&a_2\\\\a_2&a_3&a_4&a_0&a_1\\\\a_1&a_2&a_3&a_4&a_0\\\\ \\end{bmatrix}$  \n",
    "-열행렬을 나타낼때도 같은 기호가 쓰인다."
   ]
  },
  {
   "cell_type": "markdown",
   "metadata": {},
   "source": [
    "### 대각행렬(D): diagonal matrix\n",
    "\n",
    "주 대각선이 아닌 성분들이 전부 0을 갖는 정사각행렬을 말한다."
   ]
  },
  {
   "cell_type": "markdown",
   "metadata": {},
   "source": [
    "### 단위행렬(I):  identity matrix\n",
    "대각행렬인데 대각선을 이루는 원소가 전부 1인 행렬이다.  \n",
    "**단위행렬은 행렬의 곱셈에 대한 항등원이다.**\n",
    "\n",
    "자기자신에 어떠한 값을 곱해도 자기 자신이 나오는 성질을 말하는데 직접 풀어써보면 바로 이해할 수 있지만 코드로 나타내보았다."
   ]
  },
  {
   "cell_type": "code",
   "execution_count": 1,
   "metadata": {},
   "outputs": [
    {
     "name": "stdout",
     "output_type": "stream",
     "text": [
      "[[1 2]\n",
      " [3 4]]\n"
     ]
    }
   ],
   "source": [
    "import numpy as np\n",
    "\n",
    "A=np.array([[1,2],[3,4]])\n",
    "I=np.array([[1,0],[0,1]])\n",
    "\n",
    "print(A@I)"
   ]
  },
  {
   "cell_type": "markdown",
   "metadata": {},
   "source": [
    "### 하삼각행렬(L): lower triangular matrix  \n",
    "\n",
    "주대각선을 기준으로 위쪽에 위치한 원소들이 전부 0인값을 말한다.  "
   ]
  },
  {
   "cell_type": "code",
   "execution_count": 2,
   "metadata": {},
   "outputs": [
    {
     "name": "stdout",
     "output_type": "stream",
     "text": [
      "[[1 0 0 0]\n",
      " [3 4 0 0]\n",
      " [4 3 1 0]\n",
      " [4 3 2 4]]\n"
     ]
    }
   ],
   "source": [
    "#원소는 의미없이 대입했다.\n",
    "L=np.array([[1,0,0,0],[3,4,0,0],[4,3,1,0],[4,3,2,4]])\n",
    "\n",
    "print(L)"
   ]
  },
  {
   "cell_type": "markdown",
   "metadata": {},
   "source": [
    "### 마르코프행렬(M): markov matrix\n",
    "마르코프행렬은 마르코프 연쇄에서 확률 과정으로 표현된다.\n",
    "무슨 말인가 싶다..한번 알아보자. \n",
    "<br/>\n",
    "마르코프 연쇄(Markov chain): 어떤 사건 발생할 확률값이 시간에 따라 변해가는 과정\n",
    "<bf/>\n",
    "이때 특정 조건을 만족해야하는데 그것은 아래의 내용과 같다.  \n",
    "- 시간이 이산적으로 변한다.\n",
    "- 특정시간에 사건이 발생할 확률은 그 이전 시간에 발생한 사건에 대해서만 영향을 받는다.\n",
    "\n",
    "마르코프행렬은 아래와 같은 특징이 있다.\n",
    "- 모든 요소가 0보다 크거나 같다. 즉,양수이다.\n",
    "- 각 열 벡터들의 요소들을 더하면 1이 되는 행렬이다."
   ]
  },
  {
   "cell_type": "markdown",
   "metadata": {},
   "source": [
    "### 투영행렬(P): projection matrix  \n",
    "대칭행렬에 속하며 정사영 행렬이라고도 불린다.  \n",
    "아래와 같은 특징들을 가진다.  \n",
    "${P^2=P}$  \n",
    "${P^T=P}$  \n",
    "${P^TP=P}$"
   ]
  },
  {
   "cell_type": "markdown",
   "metadata": {},
   "source": [
    "### 직교행렬(Q): orthogonal matrix  \n",
    "행렬의 열과 행벡터들이 자기 자신을 제외한 모든 열,행벡터들과 직교이면서 동시에 단위행렬인 것을 의미한다\n",
    "\n",
    "와닿지 않을 수 있어 작성해보면 다음과 같다.  \n",
    "$Q=\\begin{bmatrix}0&0&1\\\\1&0&0\\\\0&1&0\\\\ \\end{bmatrix}$  \n",
    "\n",
    "직교행렬Q와 Q의 전치행렬을 곱하면 단위행렬(I)가 나온다."
   ]
  },
  {
   "cell_type": "code",
   "execution_count": 3,
   "metadata": {},
   "outputs": [
    {
     "name": "stdout",
     "output_type": "stream",
     "text": [
      "[[1 0 0]\n",
      " [0 1 0]\n",
      " [0 0 1]]\n"
     ]
    }
   ],
   "source": [
    "Q=np.array([[0,0,1],[1,0,0],[0,1,0]])\n",
    "print(Q@Q.T)"
   ]
  },
  {
   "cell_type": "markdown",
   "metadata": {},
   "source": [
    "### 상삼각행렬(R,U): upper triangular matrix  \n",
    "주대각선을 기준으로 아래쪽 원소들이 전부 0인 행렬을 말한다.  \n",
    "- 주로 행렬기호 U로 표현한다."
   ]
  },
  {
   "cell_type": "markdown",
   "metadata": {},
   "source": [
    "### 대칭행렬(S): symmetric matrix  \n",
    "전치행렬이 자기 자신과 같은 값이다.  \n",
    "$A=A^T$"
   ]
  },
  {
   "cell_type": "markdown",
   "metadata": {},
   "source": [
    "### 텐서(T): Tensor\n",
    "미분기하학과 대수학에 따라 차이점이 있지만 머신러닝을 다루는데 있어서는 다차원배열 정도로 이해하고 있으면 될 듯하다."
   ]
  },
  {
   "cell_type": "markdown",
   "metadata": {},
   "source": [
    "### 고유벡터행렬(X): eigenvalue vector matrix\n",
    "고유벡터행렬과 고유값행렬이 정확히 무슨 차이가 있는지는 모르겠다.\n",
    "<br/>\n",
    "### 고유값행렬(거꾸로된 V형태를 띄고있다. ): eigenvalue matrix\n",
    "↑찾아봐도 마크다운 표현방법을 모르겠다..\n",
    "\n",
    "고유벡터와 함께 임의의 대상이되는 행렬의 특성을 보여주는 정보를 갖고있는 행렬을 말한다.\n",
    "- 고유벡터: 선형변환 A에 의한 변환 결과가 자기 자신의 상수배가 되는 0이 아닌 벡터를 말한다.\n",
    "\n",
    "Av = λv를 만족한다고 한다면 v는 고유벡터, λ를 고유값이라고 칭한다."
   ]
  },
  {
   "cell_type": "markdown",
   "metadata": {},
   "source": [
    "이 밖에도 푸리에행렬(F), 혼합행렬(M), 표본 공분산행렬(S), 좌특이벡터(U), 우특이벡터(V), 특이값행렬($\\displaystyle\\sum_{}^{}{}$)등이 존재하지만 공부를 더 해봐야할 것같다..."
   ]
  }
 ],
 "metadata": {
  "kernelspec": {
   "display_name": "Python 3",
   "language": "python",
   "name": "python3"
  },
  "language_info": {
   "codemirror_mode": {
    "name": "ipython",
    "version": 3
   },
   "file_extension": ".py",
   "mimetype": "text/x-python",
   "name": "python",
   "nbconvert_exporter": "python",
   "pygments_lexer": "ipython3",
   "version": "3.7.6"
  }
 },
 "nbformat": 4,
 "nbformat_minor": 4
}
