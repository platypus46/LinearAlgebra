{
 "cells": [
  {
   "cell_type": "markdown",
   "metadata": {},
   "source": [
    "# 고윳값(eigen value)과 고유벡터(eigen vector)"
   ]
  },
  {
   "cell_type": "markdown",
   "metadata": {},
   "source": [
    "**고윳값과 고유벡터에 간략하게 말해본다면 다음과 같이 서술할 수 있다.**  \n",
    "대부분의 벡터는 선형변환을 거치면 자신의 스팬(span)에서 벗어나게되는데 일부 벡터에 한해 크기만 바뀌고 고유한 스팬에 남게된다.  \n",
    "이때 벡터의 크기를 고윳값(eigen value), 방향을 고유벡터(eigen vector)라고 한다.  \n",
    "(A의 고유벡터라 함은 A에 그 벡터들을 곱해도 방향이 변하지 않는다는 성질을 갖는다라고 할 수 있다.)"
   ]
  },
  {
   "cell_type": "markdown",
   "metadata": {},
   "source": [
    "#### 앞서 선형변환의 쉬운 이해를 돕기위해 A라는 행렬을 하나의 함수로 바라보자.\n",
    "$ex) f(x)→Ax$"
   ]
  },
  {
   "cell_type": "markdown",
   "metadata": {},
   "source": [
    "$A=\\begin{bmatrix}2&-1\\\\-1&2\\\\ \\end{bmatrix}$  \n",
    "- $\\begin{bmatrix}2&-1\\\\-1&2\\\\ \\end{bmatrix}\\begin{bmatrix}1\\\\0\\\\ \\end{bmatrix}=\\begin{bmatrix}2\\\\-1\\\\ \\end{bmatrix}$\n",
    "- $\\begin{bmatrix}2&-1\\\\-1&2\\\\ \\end{bmatrix}\\begin{bmatrix}0\\\\1\\\\ \\end{bmatrix}=\\begin{bmatrix}-1\\\\2\\\\ \\end{bmatrix}$\n",
    "- $\\begin{bmatrix}2&-1\\\\-1&2\\\\ \\end{bmatrix}\\begin{bmatrix}1\\\\-1\\\\ \\end{bmatrix}=\\begin{bmatrix}3\\\\-3\\\\ \\end{bmatrix}$→$3\\begin{bmatrix}1\\\\-1\\\\ \\end{bmatrix}$ 이 경우 고윳값 3,고유벡터$\\begin{bmatrix}1\\\\-1\\\\ \\end{bmatrix}$할 수 있다."
   ]
  },
  {
   "cell_type": "markdown",
   "metadata": {},
   "source": [
    "### 위의 과정을 통해 임의의 행렬A와 고윳값, 고유벡터의 관계식을 도출할 수 있다.\n",
    "$Ax= \\lambda x$   \n",
    "x는 A의 고유벡터,$\\lambda$는 A의 고윳값이다."
   ]
  },
  {
   "cell_type": "markdown",
   "metadata": {},
   "source": [
    "고유벡터 x는 단지 고윳값을 곱한 형태이다. 다시 A를 곱한 $A^2$의 고유 벡터 또한 x임을 알 수 있다.  \n",
    "$A(Ax)=A(\\lambda x)=\\lambda(Ax)=\\lambda^2x$  \n",
    "\n",
    "코드로 간단하게 나타내면 아래와 같다."
   ]
  },
  {
   "cell_type": "code",
   "execution_count": 9,
   "metadata": {},
   "outputs": [
    {
     "name": "stdout",
     "output_type": "stream",
     "text": [
      "lambda*x: [[3]\n",
      " [3]]\n",
      "lambda^2*x: [[9]\n",
      " [9]]\n"
     ]
    }
   ],
   "source": [
    "import numpy as np\n",
    "\n",
    "A=np.array([[2,1],[1,2]])\n",
    "x=np.array([[1],[1]])\n",
    "\n",
    "print(f\"lambda*x: {A@x}\")\n",
    "print(f\"lambda^2*x: {A@A@x}\")\n",
    "\n"
   ]
  },
  {
   "cell_type": "markdown",
   "metadata": {},
   "source": [
    "위의 내용을 통해 모든 k=1,2,3,...에 대하여 $A^kx=\\lambda^kx$가 성립하고 $\\lambda\\ne0인 \\lambda에 대하여 \\frac{1}{A}x=\\frac{1}{\\lambda}x$임을 알 수 있다."
   ]
  },
  {
   "cell_type": "markdown",
   "metadata": {},
   "source": [
    "### 다른 예제로 고유값과 고유벡터의 성질에 대해서 알아보자"
   ]
  },
  {
   "cell_type": "markdown",
   "metadata": {},
   "source": [
    "S=$\\begin{bmatrix}2&1\\\\1&2\\\\ \\end{bmatrix}$의 고유값,고유벡터는 아래와 같다."
   ]
  },
  {
   "cell_type": "markdown",
   "metadata": {},
   "source": [
    "- $S\\begin{bmatrix}1\\\\1\\\\ \\end{bmatrix}=3\\begin{bmatrix}1\\\\1\\\\ \\end{bmatrix}$\n",
    "- $S\\begin{bmatrix}1\\\\-1\\\\ \\end{bmatrix}=\\begin{bmatrix}1\\\\-1\\\\ \\end{bmatrix}$"
   ]
  },
  {
   "cell_type": "markdown",
   "metadata": {},
   "source": [
    "고유값과 고유벡터에 대해서 다음과 같은 네가지의 성질이 성립함을 확인 할 수 있다.\n",
    "- S의 대각합: 합 $\\lambda_1+\\lambda_2=3+1$은 대각성분의 합 2+2=4와 같다.\n",
    "- 행렬식: 곱$\\lambda_1\\lambda_2=3$은 행렬식 4-1과 같다.\n",
    "- 실수 고윳값: 대칭행렬 S=S^T의 고윳값은 항상 실수이다.  \n",
    "- 직교 고유벡터:$\\lambda_1\\ne\\lambda_2이면 x_1*x_2=0이다.$←위의 식에서는 (1,1)*(1,-1)=0"
   ]
  },
  {
   "cell_type": "markdown",
   "metadata": {},
   "source": [
    "### 고유값 직접 계산하기"
   ]
  },
  {
   "cell_type": "markdown",
   "metadata": {},
   "source": [
    "$Ax=\\lambda x$가 $(A-\\lambda I)x=0$과 같음을 파악하고 있어야한다.  \n",
    "그러면 다음과 같은 행렬식을 도출할 수 있다.  \n",
    "$\\begin{vmatrix}a-\\lambda&b\\\\c&d-\\lambda\\\\ \\end{vmatrix}=\\lambda^2-(a+d)\\lambda+(ad-bc)=0$"
   ]
  },
  {
   "cell_type": "markdown",
   "metadata": {},
   "source": [
    "$A=\\begin{bmatrix}8&3\\\\2&7\\\\ \\end{bmatrix}$를 예로 고윳값을 찾아보자면 행렬식을 통해 $(\\lambda-10)(\\lambda-5)$로 고윳값이 각각 10과 5임을 알 수 있으며 위에서 언급한 S의 대각합 성질인 10+5=8+7도 만족한다는 것을 확인할 수 있다."
   ]
  }
 ],
 "metadata": {
  "kernelspec": {
   "display_name": "Python 3",
   "language": "python",
   "name": "python3"
  },
  "language_info": {
   "codemirror_mode": {
    "name": "ipython",
    "version": 3
   },
   "file_extension": ".py",
   "mimetype": "text/x-python",
   "name": "python",
   "nbconvert_exporter": "python",
   "pygments_lexer": "ipython3",
   "version": "3.7.6"
  }
 },
 "nbformat": 4,
 "nbformat_minor": 4
}
