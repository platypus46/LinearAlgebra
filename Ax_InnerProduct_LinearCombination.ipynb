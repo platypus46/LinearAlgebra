{
 "cells": [
  {
   "cell_type": "markdown",
   "metadata": {},
   "source": [
    "## 곱셈 Ax, 내적(inner product)과 선형 결합(linear combination)"
   ]
  },
  {
   "cell_type": "markdown",
   "metadata": {},
   "source": [
    "**아래의 예제를 통해 간단하게 A와 x에 대한 곱셈이 어떻게 이루어지는지 확인하자(행과 열 이용)**  \n",
    "행렬 $A=\\begin{bmatrix}1&2\\\\3&4\\\\5&6\\\\ \\end{bmatrix}$ "
   ]
  },
  {
   "cell_type": "markdown",
   "metadata": {},
   "source": [
    "- 행을 이용: $\\begin{bmatrix}1&2\\\\3&4\\\\5&6\\\\ \\end{bmatrix}\\begin{bmatrix}x_1\\\\x_2\\\\ \\end{bmatrix}=\\begin{bmatrix}x_1+2x_2\\\\3x_1+4x_2\\\\5x_1+6x_1\\\\ \\end{bmatrix}$←$x=(x_1,x_2)$와 행의 내적"
   ]
  },
  {
   "cell_type": "markdown",
   "metadata": {},
   "source": [
    "- 열을 이용: $\\begin{bmatrix}1&2\\\\3&4\\\\5&6\\\\ \\end{bmatrix}\\begin{bmatrix}x_1\\\\x_2\\\\ \\end{bmatrix}=x_1\\begin{bmatrix}1\\\\2\\\\3\\\\ \\end{bmatrix}+x_2\\begin{bmatrix}4\\\\5\\\\6\\\\ \\end{bmatrix}$=$열a_1와 a_2의 일차결합$"
   ]
  },
  {
   "cell_type": "markdown",
   "metadata": {},
   "source": [
    "**내적과 일차결합에 대해 간단히 알아보자**\n",
    "\n",
    "- **일차결합이란?**   \n",
    "어떤 벡터를 다른 벡터들의 스칼라 곱셈과 벡터 간 덧셈으로 나타낸 것을 의미한다.\n",
    "\n",
    "*Ax는 행렬 A의 열의 선형 결합(일차 결합)이다.* ← 이 개념은 행렬A의 열공간(columnspace)으로 이어지며 n차원 공간상에서 모든 일차결합이 어느 부분을 생성하는지에 대한 기하학적 관점을 제공한다.    \n",
    "(선형생성과 벡터공간의 기저를 이해하기 위해서는 위의 내용을 숙지하고 있어야된다.)"
   ]
  },
  {
   "cell_type": "markdown",
   "metadata": {},
   "source": [
    "- **내적이란?**  \n",
    "A와B를 내적한다라는 것은 A의 크기와 A에 B를 정사영했을 때의 크기의 곱이다라고 표현 할 수 있다. \n",
    "그리고 이를 식으로 다음과 같이 표현할 수 있다.\n",
    "$\\begin{Vmatrix}A\\\\ \\end{Vmatrix}\\begin{Vmatrix}B\\\\ \\end{Vmatrix}cos(\\theta)=\\begin{Vmatrix}B\\\\ \\end{Vmatrix}\\begin{Vmatrix}A\\\\ \\end{Vmatrix}cos(\\theta)=A^TB=AB^T$\n",
    "<br/>  \n",
    "전치 행렬은 행과 열을 교환하여 얻는 행렬로 주대각선을 축으로 하는 반사 대칭을 가하여 얻는 행렬을 말한다.  "
   ]
  },
  {
   "cell_type": "markdown",
   "metadata": {},
   "source": [
    "### 전치행렬 코드 구현"
   ]
  },
  {
   "cell_type": "code",
   "execution_count": 1,
   "metadata": {},
   "outputs": [
    {
     "name": "stdout",
     "output_type": "stream",
     "text": [
      "[[1, 2, 3], [4, 5, 6], [7, 8, 9]]\n",
      "[[1, 4, 7], [2, 5, 8], [3, 6, 9]]\n"
     ]
    }
   ],
   "source": [
    "def transpose(arr):\n",
    "    row=len(arr)\n",
    "    col=len(arr[0])    \n",
    "    \n",
    "    new_arr = [[0 for row in range(row)]for col in range(col)]\n",
    "    \n",
    "    for i in range(row):\n",
    "        for j in range(col):\n",
    "            new_arr[j][i]=arr[i][j]\n",
    "            \n",
    "    return new_arr\n",
    "\n",
    "A=[[1,2,3],[4,5,6],[7,8,9]]\n",
    "A_T=transpose(A)\n",
    "\n",
    "print(A)\n",
    "print(A_T)"
   ]
  },
  {
   "attachments": {
    "%ED%9E%98.PNG": {
     "image/png": "[encoded data removed]"
    }
   },
   "cell_type": "markdown",
   "metadata": {},
   "source": [
    "내적과 정사영에 관한 대략적인 이해를 돕기위해 이미지 하나를 가져와봤다.\n",
    "\n",
    "![%ED%9E%98.PNG](attachment:%ED%9E%98.PNG)  \n",
    " 벡터의 방향이 얼마나 일치하는지를 알기 위한 용도로 내적을 사용한다고 이해하고 넘어가도 될 듯하다."
   ]
  },
  {
   "cell_type": "markdown",
   "metadata": {},
   "source": [
    "#### 그럼 이제 위의 내용을 코드로 확인해보자"
   ]
  },
  {
   "cell_type": "code",
   "execution_count": 2,
   "metadata": {},
   "outputs": [
    {
     "name": "stdout",
     "output_type": "stream",
     "text": [
      "0.9999999999999999\n",
      "1.0\n"
     ]
    }
   ],
   "source": [
    "import numpy as np\n",
    "import math\n",
    "\n",
    "#편의를 위해 벡터의 크기를 대문자로 표현\n",
    "\n",
    "a=[1,0]\n",
    "b=[1,math.sqrt(3)]\n",
    "\n",
    "A=math.sqrt(a[0]**2+a[1]**2)\n",
    "B=math.sqrt(b[0]**2+b[1]**2)\n",
    "\n",
    "#cos(60)=1/2\n",
    "cos_theta=0.5\n",
    "\n",
    "dot_product=A*B*cos_theta\n",
    "print(dot_product)\n",
    "\n",
    "a=np.array(a)\n",
    "b=np.array(b)\n",
    "\n",
    "print(a@b)\n"
   ]
  }
 ],
 "metadata": {
  "kernelspec": {
   "display_name": "Python 3",
   "language": "python",
   "name": "python3"
  },
  "language_info": {
   "codemirror_mode": {
    "name": "ipython",
    "version": 3
   },
   "file_extension": ".py",
   "mimetype": "text/x-python",
   "name": "python",
   "nbconvert_exporter": "python",
   "pygments_lexer": "ipython3",
   "version": "3.7.6"
  }
 },
 "nbformat": 4,
 "nbformat_minor": 4
}
